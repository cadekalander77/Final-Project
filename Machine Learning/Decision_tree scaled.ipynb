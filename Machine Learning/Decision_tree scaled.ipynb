{
 "cells": [
  {
   "cell_type": "code",
   "execution_count": 14,
   "metadata": {},
   "outputs": [],
   "source": [
    "# Initial imports\n",
    "import pandas as pd\n",
    "from pathlib import Path\n",
    "from sklearn import tree\n",
    "from sklearn.preprocessing import StandardScaler\n",
    "from sklearn.model_selection import train_test_split\n",
    "from sklearn.metrics import confusion_matrix, accuracy_score, classification_report"
   ]
  },
  {
   "cell_type": "code",
   "execution_count": 15,
   "metadata": {},
   "outputs": [
    {
     "data": {
      "text/html": [
       "<div>\n",
       "<style scoped>\n",
       "    .dataframe tbody tr th:only-of-type {\n",
       "        vertical-align: middle;\n",
       "    }\n",
       "\n",
       "    .dataframe tbody tr th {\n",
       "        vertical-align: top;\n",
       "    }\n",
       "\n",
       "    .dataframe thead th {\n",
       "        text-align: right;\n",
       "    }\n",
       "</style>\n",
       "<table border=\"1\" class=\"dataframe\">\n",
       "  <thead>\n",
       "    <tr style=\"text-align: right;\">\n",
       "      <th></th>\n",
       "      <th>Results</th>\n",
       "      <th>diff_CTRL_time(seconds)</th>\n",
       "      <th>diff_GROUND_att</th>\n",
       "      <th>diff_GROUND_landed</th>\n",
       "      <th>diff_TD_landed</th>\n",
       "      <th>diff_SUB_ATT</th>\n",
       "      <th>diff_TD_pct</th>\n",
       "      <th>avg_KD</th>\n",
       "    </tr>\n",
       "  </thead>\n",
       "  <tbody>\n",
       "    <tr>\n",
       "      <th>0</th>\n",
       "      <td>1</td>\n",
       "      <td>-49.000000</td>\n",
       "      <td>0.000000</td>\n",
       "      <td>0.000000</td>\n",
       "      <td>-49.000000</td>\n",
       "      <td>49.000000</td>\n",
       "      <td>-98.000000</td>\n",
       "      <td>147.000000</td>\n",
       "    </tr>\n",
       "    <tr>\n",
       "      <th>1</th>\n",
       "      <td>1</td>\n",
       "      <td>21.468750</td>\n",
       "      <td>11.437500</td>\n",
       "      <td>8.718750</td>\n",
       "      <td>12.750000</td>\n",
       "      <td>-4.031250</td>\n",
       "      <td>16.781250</td>\n",
       "      <td>-20.812500</td>\n",
       "    </tr>\n",
       "    <tr>\n",
       "      <th>2</th>\n",
       "      <td>1</td>\n",
       "      <td>-7.328125</td>\n",
       "      <td>-4.000000</td>\n",
       "      <td>-3.406250</td>\n",
       "      <td>-3.921875</td>\n",
       "      <td>0.515625</td>\n",
       "      <td>-4.437500</td>\n",
       "      <td>4.953125</td>\n",
       "    </tr>\n",
       "    <tr>\n",
       "      <th>3</th>\n",
       "      <td>0</td>\n",
       "      <td>0.000000</td>\n",
       "      <td>0.000000</td>\n",
       "      <td>0.000000</td>\n",
       "      <td>0.000000</td>\n",
       "      <td>0.000000</td>\n",
       "      <td>0.000000</td>\n",
       "      <td>0.000000</td>\n",
       "    </tr>\n",
       "    <tr>\n",
       "      <th>4</th>\n",
       "      <td>0</td>\n",
       "      <td>-168.867188</td>\n",
       "      <td>-2.131836</td>\n",
       "      <td>-1.531250</td>\n",
       "      <td>-167.335938</td>\n",
       "      <td>165.804688</td>\n",
       "      <td>-333.140625</td>\n",
       "      <td>498.945312</td>\n",
       "    </tr>\n",
       "    <tr>\n",
       "      <th>5</th>\n",
       "      <td>0</td>\n",
       "      <td>-134.515625</td>\n",
       "      <td>3.210938</td>\n",
       "      <td>4.515625</td>\n",
       "      <td>-139.031250</td>\n",
       "      <td>143.546875</td>\n",
       "      <td>-282.578125</td>\n",
       "      <td>426.125000</td>\n",
       "    </tr>\n",
       "    <tr>\n",
       "      <th>6</th>\n",
       "      <td>0</td>\n",
       "      <td>-78.937500</td>\n",
       "      <td>0.875000</td>\n",
       "      <td>1.000000</td>\n",
       "      <td>-79.937500</td>\n",
       "      <td>80.937500</td>\n",
       "      <td>-160.875000</td>\n",
       "      <td>241.812500</td>\n",
       "    </tr>\n",
       "    <tr>\n",
       "      <th>7</th>\n",
       "      <td>1</td>\n",
       "      <td>154.296829</td>\n",
       "      <td>18.328171</td>\n",
       "      <td>14.659668</td>\n",
       "      <td>139.637161</td>\n",
       "      <td>-124.977493</td>\n",
       "      <td>264.614654</td>\n",
       "      <td>-389.592148</td>\n",
       "    </tr>\n",
       "    <tr>\n",
       "      <th>8</th>\n",
       "      <td>1</td>\n",
       "      <td>-1.937500</td>\n",
       "      <td>5.562500</td>\n",
       "      <td>5.187500</td>\n",
       "      <td>-7.125000</td>\n",
       "      <td>12.312500</td>\n",
       "      <td>-19.437500</td>\n",
       "      <td>31.750000</td>\n",
       "    </tr>\n",
       "    <tr>\n",
       "      <th>9</th>\n",
       "      <td>1</td>\n",
       "      <td>56.500000</td>\n",
       "      <td>0.500000</td>\n",
       "      <td>-1.000000</td>\n",
       "      <td>57.500000</td>\n",
       "      <td>-58.500000</td>\n",
       "      <td>116.000000</td>\n",
       "      <td>-174.500000</td>\n",
       "    </tr>\n",
       "  </tbody>\n",
       "</table>\n",
       "</div>"
      ],
      "text/plain": [
       "   Results  diff_CTRL_time(seconds)  diff_GROUND_att  diff_GROUND_landed  \\\n",
       "0        1               -49.000000         0.000000            0.000000   \n",
       "1        1                21.468750        11.437500            8.718750   \n",
       "2        1                -7.328125        -4.000000           -3.406250   \n",
       "3        0                 0.000000         0.000000            0.000000   \n",
       "4        0              -168.867188        -2.131836           -1.531250   \n",
       "5        0              -134.515625         3.210938            4.515625   \n",
       "6        0               -78.937500         0.875000            1.000000   \n",
       "7        1               154.296829        18.328171           14.659668   \n",
       "8        1                -1.937500         5.562500            5.187500   \n",
       "9        1                56.500000         0.500000           -1.000000   \n",
       "\n",
       "   diff_TD_landed  diff_SUB_ATT  diff_TD_pct      avg_KD  \n",
       "0      -49.000000     49.000000   -98.000000  147.000000  \n",
       "1       12.750000     -4.031250    16.781250  -20.812500  \n",
       "2       -3.921875      0.515625    -4.437500    4.953125  \n",
       "3        0.000000      0.000000     0.000000    0.000000  \n",
       "4     -167.335938    165.804688  -333.140625  498.945312  \n",
       "5     -139.031250    143.546875  -282.578125  426.125000  \n",
       "6      -79.937500     80.937500  -160.875000  241.812500  \n",
       "7      139.637161   -124.977493   264.614654 -389.592148  \n",
       "8       -7.125000     12.312500   -19.437500   31.750000  \n",
       "9       57.500000    -58.500000   116.000000 -174.500000  "
      ]
     },
     "execution_count": 15,
     "metadata": {},
     "output_type": "execute_result"
    }
   ],
   "source": [
    "file_path = Path('../Machine Learning/popular_features_fighters.csv')\n",
    "fighter_df = pd.read_csv(file_path)\n",
    "fighter_df = fighter_df.dropna()\n",
    "fighter_df.head(10)"
   ]
  },
  {
   "cell_type": "code",
   "execution_count": 16,
   "metadata": {},
   "outputs": [
    {
     "data": {
      "text/html": [
       "<div>\n",
       "<style scoped>\n",
       "    .dataframe tbody tr th:only-of-type {\n",
       "        vertical-align: middle;\n",
       "    }\n",
       "\n",
       "    .dataframe tbody tr th {\n",
       "        vertical-align: top;\n",
       "    }\n",
       "\n",
       "    .dataframe thead th {\n",
       "        text-align: right;\n",
       "    }\n",
       "</style>\n",
       "<table border=\"1\" class=\"dataframe\">\n",
       "  <thead>\n",
       "    <tr style=\"text-align: right;\">\n",
       "      <th></th>\n",
       "      <th>diff_CTRL_time(seconds)</th>\n",
       "      <th>diff_GROUND_att</th>\n",
       "      <th>diff_GROUND_landed</th>\n",
       "      <th>diff_TD_landed</th>\n",
       "      <th>diff_SUB_ATT</th>\n",
       "      <th>diff_TD_pct</th>\n",
       "      <th>avg_KD</th>\n",
       "    </tr>\n",
       "  </thead>\n",
       "  <tbody>\n",
       "    <tr>\n",
       "      <th>0</th>\n",
       "      <td>-49.000000</td>\n",
       "      <td>0.000000</td>\n",
       "      <td>0.00000</td>\n",
       "      <td>-49.000000</td>\n",
       "      <td>49.000000</td>\n",
       "      <td>-98.000000</td>\n",
       "      <td>147.000000</td>\n",
       "    </tr>\n",
       "    <tr>\n",
       "      <th>1</th>\n",
       "      <td>21.468750</td>\n",
       "      <td>11.437500</td>\n",
       "      <td>8.71875</td>\n",
       "      <td>12.750000</td>\n",
       "      <td>-4.031250</td>\n",
       "      <td>16.781250</td>\n",
       "      <td>-20.812500</td>\n",
       "    </tr>\n",
       "    <tr>\n",
       "      <th>2</th>\n",
       "      <td>-7.328125</td>\n",
       "      <td>-4.000000</td>\n",
       "      <td>-3.40625</td>\n",
       "      <td>-3.921875</td>\n",
       "      <td>0.515625</td>\n",
       "      <td>-4.437500</td>\n",
       "      <td>4.953125</td>\n",
       "    </tr>\n",
       "    <tr>\n",
       "      <th>3</th>\n",
       "      <td>0.000000</td>\n",
       "      <td>0.000000</td>\n",
       "      <td>0.00000</td>\n",
       "      <td>0.000000</td>\n",
       "      <td>0.000000</td>\n",
       "      <td>0.000000</td>\n",
       "      <td>0.000000</td>\n",
       "    </tr>\n",
       "    <tr>\n",
       "      <th>4</th>\n",
       "      <td>-168.867188</td>\n",
       "      <td>-2.131836</td>\n",
       "      <td>-1.53125</td>\n",
       "      <td>-167.335938</td>\n",
       "      <td>165.804688</td>\n",
       "      <td>-333.140625</td>\n",
       "      <td>498.945312</td>\n",
       "    </tr>\n",
       "  </tbody>\n",
       "</table>\n",
       "</div>"
      ],
      "text/plain": [
       "   diff_CTRL_time(seconds)  diff_GROUND_att  diff_GROUND_landed  \\\n",
       "0               -49.000000         0.000000             0.00000   \n",
       "1                21.468750        11.437500             8.71875   \n",
       "2                -7.328125        -4.000000            -3.40625   \n",
       "3                 0.000000         0.000000             0.00000   \n",
       "4              -168.867188        -2.131836            -1.53125   \n",
       "\n",
       "   diff_TD_landed  diff_SUB_ATT  diff_TD_pct      avg_KD  \n",
       "0      -49.000000     49.000000   -98.000000  147.000000  \n",
       "1       12.750000     -4.031250    16.781250  -20.812500  \n",
       "2       -3.921875      0.515625    -4.437500    4.953125  \n",
       "3        0.000000      0.000000     0.000000    0.000000  \n",
       "4     -167.335938    165.804688  -333.140625  498.945312  "
      ]
     },
     "execution_count": 16,
     "metadata": {},
     "output_type": "execute_result"
    }
   ],
   "source": [
    "X = fighter_df.drop(\"Results\", axis=1)\n",
    "X.head()"
   ]
  },
  {
   "cell_type": "code",
   "execution_count": 17,
   "metadata": {},
   "outputs": [
    {
     "data": {
      "text/plain": [
       "array([1, 1, 1, 0, 0], dtype=int64)"
      ]
     },
     "execution_count": 17,
     "metadata": {},
     "output_type": "execute_result"
    }
   ],
   "source": [
    "# Define the target set.\n",
    "y = fighter_df[\"Results\"].values\n",
    "y[:5]"
   ]
  },
  {
   "cell_type": "code",
   "execution_count": 18,
   "metadata": {},
   "outputs": [],
   "source": [
    "X_train, X_test, y_train, y_test = train_test_split(X, y, random_state=1)"
   ]
  },
  {
   "cell_type": "code",
   "execution_count": 19,
   "metadata": {},
   "outputs": [
    {
     "name": "stdout",
     "output_type": "stream",
     "text": [
      "(9013, 7)\n",
      "(3005, 7)\n",
      "(9013,)\n",
      "(3005,)\n"
     ]
    }
   ],
   "source": [
    "# Determine the shape of our training and testing sets.\n",
    "print(X_train.shape)\n",
    "print(X_test.shape)\n",
    "print(y_train.shape)\n",
    "print(y_test.shape)"
   ]
  },
  {
   "cell_type": "code",
   "execution_count": 20,
   "metadata": {},
   "outputs": [],
   "source": [
    "# Creating a StandardScaler instance.\n",
    "scaler = StandardScaler()\n",
    "# Fitting the Standard Scaler with the training data.\n",
    "X_scaler = scaler.fit(X_train)\n",
    "\n",
    "# Scaling the data.\n",
    "X_train_scaled = X_scaler.transform(X_train)\n",
    "X_test_scaled = X_scaler.transform(X_test)"
   ]
  },
  {
   "cell_type": "code",
   "execution_count": 21,
   "metadata": {},
   "outputs": [],
   "source": [
    "# Creating the decision tree classifier instance.\n",
    "model = tree.DecisionTreeClassifier()\n",
    "# Fitting the model.\n",
    "model = model.fit(X_train_scaled, y_train)"
   ]
  },
  {
   "cell_type": "code",
   "execution_count": 22,
   "metadata": {},
   "outputs": [],
   "source": [
    "# Making predictions using the testing data.\n",
    "predictions = model.predict(X_test_scaled)"
   ]
  },
  {
   "cell_type": "code",
   "execution_count": 23,
   "metadata": {},
   "outputs": [
    {
     "data": {
      "text/plain": [
       "array([0, 1, 0, ..., 0, 1, 0], dtype=int64)"
      ]
     },
     "execution_count": 23,
     "metadata": {},
     "output_type": "execute_result"
    }
   ],
   "source": [
    "predictions"
   ]
  },
  {
   "cell_type": "code",
   "execution_count": 24,
   "metadata": {},
   "outputs": [
    {
     "data": {
      "text/html": [
       "<div>\n",
       "<style scoped>\n",
       "    .dataframe tbody tr th:only-of-type {\n",
       "        vertical-align: middle;\n",
       "    }\n",
       "\n",
       "    .dataframe tbody tr th {\n",
       "        vertical-align: top;\n",
       "    }\n",
       "\n",
       "    .dataframe thead th {\n",
       "        text-align: right;\n",
       "    }\n",
       "</style>\n",
       "<table border=\"1\" class=\"dataframe\">\n",
       "  <thead>\n",
       "    <tr style=\"text-align: right;\">\n",
       "      <th></th>\n",
       "      <th>Predicted 0</th>\n",
       "      <th>Predicted 1</th>\n",
       "    </tr>\n",
       "  </thead>\n",
       "  <tbody>\n",
       "    <tr>\n",
       "      <th>Actual 0</th>\n",
       "      <td>894</td>\n",
       "      <td>606</td>\n",
       "    </tr>\n",
       "    <tr>\n",
       "      <th>Actual 1</th>\n",
       "      <td>887</td>\n",
       "      <td>618</td>\n",
       "    </tr>\n",
       "  </tbody>\n",
       "</table>\n",
       "</div>"
      ],
      "text/plain": [
       "          Predicted 0  Predicted 1\n",
       "Actual 0          894          606\n",
       "Actual 1          887          618"
      ]
     },
     "execution_count": 24,
     "metadata": {},
     "output_type": "execute_result"
    }
   ],
   "source": [
    "# Calculating the confusion matrix\n",
    "cm = confusion_matrix(y_test, predictions)\n",
    "\n",
    "# Create a DataFrame from the confusion matrix.\n",
    "cm_df = pd.DataFrame(\n",
    "    cm, index=[\"Actual 0\", \"Actual 1\"], columns=[\"Predicted 0\", \"Predicted 1\"])\n",
    "\n",
    "cm_df"
   ]
  },
  {
   "cell_type": "code",
   "execution_count": 25,
   "metadata": {},
   "outputs": [
    {
     "data": {
      "text/plain": [
       "0.5031613976705491"
      ]
     },
     "execution_count": 25,
     "metadata": {},
     "output_type": "execute_result"
    }
   ],
   "source": [
    "# Calculating the accuracy score.\n",
    "acc_score = accuracy_score(y_test, predictions)\n",
    "acc_score"
   ]
  },
  {
   "cell_type": "code",
   "execution_count": 26,
   "metadata": {},
   "outputs": [
    {
     "name": "stdout",
     "output_type": "stream",
     "text": [
      "Confusion Matrix\n"
     ]
    },
    {
     "data": {
      "text/html": [
       "<div>\n",
       "<style scoped>\n",
       "    .dataframe tbody tr th:only-of-type {\n",
       "        vertical-align: middle;\n",
       "    }\n",
       "\n",
       "    .dataframe tbody tr th {\n",
       "        vertical-align: top;\n",
       "    }\n",
       "\n",
       "    .dataframe thead th {\n",
       "        text-align: right;\n",
       "    }\n",
       "</style>\n",
       "<table border=\"1\" class=\"dataframe\">\n",
       "  <thead>\n",
       "    <tr style=\"text-align: right;\">\n",
       "      <th></th>\n",
       "      <th>Predicted 0</th>\n",
       "      <th>Predicted 1</th>\n",
       "    </tr>\n",
       "  </thead>\n",
       "  <tbody>\n",
       "    <tr>\n",
       "      <th>Actual 0</th>\n",
       "      <td>894</td>\n",
       "      <td>606</td>\n",
       "    </tr>\n",
       "    <tr>\n",
       "      <th>Actual 1</th>\n",
       "      <td>887</td>\n",
       "      <td>618</td>\n",
       "    </tr>\n",
       "  </tbody>\n",
       "</table>\n",
       "</div>"
      ],
      "text/plain": [
       "          Predicted 0  Predicted 1\n",
       "Actual 0          894          606\n",
       "Actual 1          887          618"
      ]
     },
     "metadata": {},
     "output_type": "display_data"
    },
    {
     "name": "stdout",
     "output_type": "stream",
     "text": [
      "Accuracy Score : 0.5031613976705491\n",
      "Classification Report\n",
      "              precision    recall  f1-score   support\n",
      "\n",
      "           0       0.50      0.60      0.54      1500\n",
      "           1       0.50      0.41      0.45      1505\n",
      "\n",
      "    accuracy                           0.50      3005\n",
      "   macro avg       0.50      0.50      0.50      3005\n",
      "weighted avg       0.50      0.50      0.50      3005\n",
      "\n"
     ]
    }
   ],
   "source": [
    "# Displaying results\n",
    "print(\"Confusion Matrix\")\n",
    "display(cm_df)\n",
    "print(f\"Accuracy Score : {acc_score}\")\n",
    "print(\"Classification Report\")\n",
    "print(classification_report(y_test, predictions))"
   ]
  }
 ],
 "metadata": {
  "kernelspec": {
   "display_name": "Python 3.10.8 64-bit (microsoft store)",
   "language": "python",
   "name": "python3"
  },
  "language_info": {
   "codemirror_mode": {
    "name": "ipython",
    "version": 3
   },
   "file_extension": ".py",
   "mimetype": "text/x-python",
   "name": "python",
   "nbconvert_exporter": "python",
   "pygments_lexer": "ipython3",
   "version": "3.10.8"
  },
  "orig_nbformat": 4,
  "vscode": {
   "interpreter": {
    "hash": "b47b7a402ee6247eb7f649a01c3cc5cb067c084d2d9829bd69d0f4cb90cacfaf"
   }
  }
 },
 "nbformat": 4,
 "nbformat_minor": 2
}
