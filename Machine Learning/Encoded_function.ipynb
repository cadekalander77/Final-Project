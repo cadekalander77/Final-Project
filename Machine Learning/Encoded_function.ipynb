{
 "cells": [
  {
   "cell_type": "code",
   "execution_count": 5,
   "metadata": {},
   "outputs": [],
   "source": [
    "from pathlib import Path\n",
    "import pandas as pd\n",
    "import matplotlib.pyplot as plt"
   ]
  },
  {
   "cell_type": "code",
   "execution_count": 10,
   "metadata": {},
   "outputs": [],
   "source": [
    "def encode_data():\n",
    "    file_path = Path('../Machine Learning/ufc_fights_locations.csv')\n",
    "    fighter_df = pd.read_csv(file_path)\n",
    "    fighter_df.head(10)\n",
    "    print(fighter_df.head(10))"
   ]
  },
  {
   "cell_type": "code",
   "execution_count": 11,
   "metadata": {},
   "outputs": [
    {
     "name": "stdout",
     "output_type": "stream",
     "text": [
      "                   Camps                        location        Country  \\\n",
      "0              BMF Ranch            Broomfield, Colorado  United States   \n",
      "1  Demian Maia Jiu-Jitsu  Santana de Parnaiba, Sao Paulo         Brazil   \n",
      "2              BMF Ranch            Broomfield, Colorado  United States   \n",
      "3  Demian Maia Jiu-Jitsu  Santana de Parnaiba, Sao Paulo         Brazil   \n",
      "4              BMF Ranch            Broomfield, Colorado  United States   \n",
      "5    Miller Brothers MMA              Sparta, New Jersey  United States   \n",
      "6  Demian Maia Jiu-Jitsu  Santana de Parnaiba, Sao Paulo         Brazil   \n",
      "7              BMF Ranch            Broomfield, Colorado  United States   \n",
      "8                    NaN                             NaN            NaN   \n",
      "9    Miller Brothers MMA              Sparta, New Jersey  United States   \n",
      "\n",
      "   Results        avg_KD  avg_opp_KD  avg_SIG_STR_pct  avg_opp_SIG_STR_pct  \\\n",
      "0        1  7.002250e-01    0.050782         0.537746             0.478625   \n",
      "1        1  2.441410e-04    0.156250         0.218606             0.195974   \n",
      "2        1  4.004499e-01    0.101564         0.585491             0.497250   \n",
      "3        1  4.882810e-04    0.312500         0.187211             0.161948   \n",
      "4        1  8.008998e-01    0.203128         0.480982             0.444499   \n",
      "5        1  3.260000e-08    0.015633         0.430145             0.396977   \n",
      "6        1  9.765630e-04    0.625001         0.374422             0.323895   \n",
      "7        1  2.035992e-01    0.812510         0.533930             0.467997   \n",
      "8        1  1.379585e-02    0.125244         0.501162             0.341597   \n",
      "9        1  1.300000e-07    0.062531         0.530580             0.307907   \n",
      "\n",
      "   avg_TD_pct  avg_opp_TD_pct  ...  win_by_Decision_Split  \\\n",
      "0    0.533821        0.250396  ...                      0   \n",
      "1    0.305999        0.002083  ...                      1   \n",
      "2    0.067643        0.500793  ...                      0   \n",
      "3    0.281999        0.004166  ...                      1   \n",
      "4    0.135285        0.001585  ...                      0   \n",
      "5    0.167964        0.574681  ...                      2   \n",
      "6    0.063998        0.008332  ...                      1   \n",
      "7    0.321142        0.006340  ...                      0   \n",
      "8    0.581214        0.257905  ...                      2   \n",
      "9    0.671857        0.298725  ...                      2   \n",
      "\n",
      "   win_by_Decision_Unanimous  win_by_KO/TKO  win_by_Submission  \\\n",
      "0                          6             10                  6   \n",
      "1                          8              1                 10   \n",
      "2                          6              9                  6   \n",
      "3                          8              1                 10   \n",
      "4                          6              9                  5   \n",
      "5                          6              3                  9   \n",
      "6                          8              1                  9   \n",
      "7                          6              8                  5   \n",
      "8                         10              5                  2   \n",
      "9                          6              3                  8   \n",
      "\n",
      "   win_by_TKO_Doctor_Stoppage  Stance  Height   Reach  Weight   Age  \n",
      "0                           0     1.0  185.42  185.42   155.0  36.0  \n",
      "1                           0     2.0  185.42  182.88   170.0  41.0  \n",
      "2                           0     1.0  185.42  185.42   155.0  35.0  \n",
      "3                           0     2.0  185.42  182.88   170.0  41.0  \n",
      "4                           0     1.0  185.42  185.42   155.0  35.0  \n",
      "5                           0     2.0  172.72  180.34   155.0  36.0  \n",
      "6                           0     2.0  185.42  182.88   170.0  41.0  \n",
      "7                           0     1.0  185.42  185.42   155.0  34.0  \n",
      "8                           0     1.0  180.34  193.04   185.0  36.0  \n",
      "9                           0     2.0  172.72  180.34   155.0  35.0  \n",
      "\n",
      "[10 rows x 72 columns]\n"
     ]
    }
   ],
   "source": []
  }
 ],
 "metadata": {
  "kernelspec": {
   "display_name": "Python 3.10.8 64-bit (microsoft store)",
   "language": "python",
   "name": "python3"
  },
  "language_info": {
   "codemirror_mode": {
    "name": "ipython",
    "version": 3
   },
   "file_extension": ".py",
   "mimetype": "text/x-python",
   "name": "python",
   "nbconvert_exporter": "python",
   "pygments_lexer": "ipython3",
   "version": "3.10.8"
  },
  "orig_nbformat": 4,
  "vscode": {
   "interpreter": {
    "hash": "b47b7a402ee6247eb7f649a01c3cc5cb067c084d2d9829bd69d0f4cb90cacfaf"
   }
  }
 },
 "nbformat": 4,
 "nbformat_minor": 2
}
