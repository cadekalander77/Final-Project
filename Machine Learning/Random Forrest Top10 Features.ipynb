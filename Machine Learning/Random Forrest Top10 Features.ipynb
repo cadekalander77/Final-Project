{
 "cells": [
  {
   "cell_type": "code",
   "execution_count": 70,
   "metadata": {},
   "outputs": [],
   "source": [
    "# Initial imports.\n",
    "import pandas as pd\n",
    "from pathlib import Path\n",
    "from sklearn.ensemble import RandomForestClassifier\n",
    "from sklearn.preprocessing import StandardScaler\n",
    "from sklearn.model_selection import train_test_split\n",
    "from sklearn.metrics import confusion_matrix, accuracy_score, classification_report"
   ]
  },
  {
   "cell_type": "code",
   "execution_count": 71,
   "metadata": {},
   "outputs": [
    {
     "data": {
      "text/html": [
       "<div>\n",
       "<style scoped>\n",
       "    .dataframe tbody tr th:only-of-type {\n",
       "        vertical-align: middle;\n",
       "    }\n",
       "\n",
       "    .dataframe tbody tr th {\n",
       "        vertical-align: top;\n",
       "    }\n",
       "\n",
       "    .dataframe thead th {\n",
       "        text-align: right;\n",
       "    }\n",
       "</style>\n",
       "<table border=\"1\" class=\"dataframe\">\n",
       "  <thead>\n",
       "    <tr style=\"text-align: right;\">\n",
       "      <th></th>\n",
       "      <th>Results</th>\n",
       "      <th>avg_SIG_STR_pct</th>\n",
       "      <th>avg_opp_SIG_STR_pct</th>\n",
       "      <th>avg_SIG_STR_landed</th>\n",
       "      <th>avg_TOTAL_STR_landed</th>\n",
       "      <th>avg_opp_TOTAL_STR_att</th>\n",
       "      <th>avg_opp_TOTAL_STR_landed</th>\n",
       "      <th>avg_HEAD_landed</th>\n",
       "      <th>avg_opp_HEAD_landed</th>\n",
       "      <th>avg_CTRL_time(seconds)</th>\n",
       "      <th>avg_opp_CTRL_time(seconds)</th>\n",
       "    </tr>\n",
       "  </thead>\n",
       "  <tbody>\n",
       "    <tr>\n",
       "      <th>0</th>\n",
       "      <td>1</td>\n",
       "      <td>0.610465</td>\n",
       "      <td>0.556651</td>\n",
       "      <td>25.203863</td>\n",
       "      <td>39.493837</td>\n",
       "      <td>103.648148</td>\n",
       "      <td>68.976960</td>\n",
       "      <td>15.223542</td>\n",
       "      <td>31.815940</td>\n",
       "      <td>284.080065</td>\n",
       "      <td>361.640729</td>\n",
       "    </tr>\n",
       "    <tr>\n",
       "      <th>1</th>\n",
       "      <td>1</td>\n",
       "      <td>0.541862</td>\n",
       "      <td>0.476602</td>\n",
       "      <td>30.815453</td>\n",
       "      <td>50.975348</td>\n",
       "      <td>70.592592</td>\n",
       "      <td>44.907840</td>\n",
       "      <td>21.894167</td>\n",
       "      <td>16.263761</td>\n",
       "      <td>491.320261</td>\n",
       "      <td>9.562915</td>\n",
       "    </tr>\n",
       "    <tr>\n",
       "      <th>2</th>\n",
       "      <td>1</td>\n",
       "      <td>0.493724</td>\n",
       "      <td>0.533204</td>\n",
       "      <td>15.630906</td>\n",
       "      <td>19.950697</td>\n",
       "      <td>47.185184</td>\n",
       "      <td>25.815680</td>\n",
       "      <td>9.788334</td>\n",
       "      <td>16.527523</td>\n",
       "      <td>122.640521</td>\n",
       "      <td>11.125829</td>\n",
       "    </tr>\n",
       "    <tr>\n",
       "      <th>3</th>\n",
       "      <td>1</td>\n",
       "      <td>0.469789</td>\n",
       "      <td>0.565636</td>\n",
       "      <td>23.047252</td>\n",
       "      <td>30.605575</td>\n",
       "      <td>83.481468</td>\n",
       "      <td>45.525438</td>\n",
       "      <td>15.306670</td>\n",
       "      <td>28.220183</td>\n",
       "      <td>66.124170</td>\n",
       "      <td>57.006634</td>\n",
       "    </tr>\n",
       "    <tr>\n",
       "      <th>4</th>\n",
       "      <td>1</td>\n",
       "      <td>0.299155</td>\n",
       "      <td>0.462543</td>\n",
       "      <td>32.189006</td>\n",
       "      <td>37.422298</td>\n",
       "      <td>133.925873</td>\n",
       "      <td>65.101753</td>\n",
       "      <td>20.226682</td>\n",
       "      <td>31.880733</td>\n",
       "      <td>57.496679</td>\n",
       "      <td>170.026536</td>\n",
       "    </tr>\n",
       "    <tr>\n",
       "      <th>5</th>\n",
       "      <td>1</td>\n",
       "      <td>0.409722</td>\n",
       "      <td>0.488094</td>\n",
       "      <td>34.666473</td>\n",
       "      <td>48.726578</td>\n",
       "      <td>117.688995</td>\n",
       "      <td>67.819382</td>\n",
       "      <td>16.881622</td>\n",
       "      <td>23.540924</td>\n",
       "      <td>263.012970</td>\n",
       "      <td>96.496994</td>\n",
       "    </tr>\n",
       "    <tr>\n",
       "      <th>6</th>\n",
       "      <td>1</td>\n",
       "      <td>0.276622</td>\n",
       "      <td>0.400171</td>\n",
       "      <td>35.756025</td>\n",
       "      <td>44.689194</td>\n",
       "      <td>169.703493</td>\n",
       "      <td>71.407013</td>\n",
       "      <td>18.906727</td>\n",
       "      <td>50.522934</td>\n",
       "      <td>57.986715</td>\n",
       "      <td>114.106146</td>\n",
       "    </tr>\n",
       "    <tr>\n",
       "      <th>7</th>\n",
       "      <td>1</td>\n",
       "      <td>0.399444</td>\n",
       "      <td>0.416189</td>\n",
       "      <td>48.332947</td>\n",
       "      <td>60.453156</td>\n",
       "      <td>99.377991</td>\n",
       "      <td>42.638763</td>\n",
       "      <td>26.763245</td>\n",
       "      <td>26.081848</td>\n",
       "      <td>116.025940</td>\n",
       "      <td>9.993988</td>\n",
       "    </tr>\n",
       "    <tr>\n",
       "      <th>8</th>\n",
       "      <td>1</td>\n",
       "      <td>0.272975</td>\n",
       "      <td>0.471371</td>\n",
       "      <td>37.048203</td>\n",
       "      <td>57.513550</td>\n",
       "      <td>155.627945</td>\n",
       "      <td>78.256104</td>\n",
       "      <td>26.253815</td>\n",
       "      <td>50.183472</td>\n",
       "      <td>149.893722</td>\n",
       "      <td>93.849167</td>\n",
       "    </tr>\n",
       "    <tr>\n",
       "      <th>9</th>\n",
       "      <td>1</td>\n",
       "      <td>0.318887</td>\n",
       "      <td>0.402377</td>\n",
       "      <td>61.665894</td>\n",
       "      <td>78.906311</td>\n",
       "      <td>166.755981</td>\n",
       "      <td>71.277527</td>\n",
       "      <td>33.526489</td>\n",
       "      <td>47.163696</td>\n",
       "      <td>157.051880</td>\n",
       "      <td>16.987976</td>\n",
       "    </tr>\n",
       "  </tbody>\n",
       "</table>\n",
       "</div>"
      ],
      "text/plain": [
       "   Results  avg_SIG_STR_pct  avg_opp_SIG_STR_pct  avg_SIG_STR_landed  \\\n",
       "0        1         0.610465             0.556651           25.203863   \n",
       "1        1         0.541862             0.476602           30.815453   \n",
       "2        1         0.493724             0.533204           15.630906   \n",
       "3        1         0.469789             0.565636           23.047252   \n",
       "4        1         0.299155             0.462543           32.189006   \n",
       "5        1         0.409722             0.488094           34.666473   \n",
       "6        1         0.276622             0.400171           35.756025   \n",
       "7        1         0.399444             0.416189           48.332947   \n",
       "8        1         0.272975             0.471371           37.048203   \n",
       "9        1         0.318887             0.402377           61.665894   \n",
       "\n",
       "   avg_TOTAL_STR_landed  avg_opp_TOTAL_STR_att  avg_opp_TOTAL_STR_landed  \\\n",
       "0             39.493837             103.648148                 68.976960   \n",
       "1             50.975348              70.592592                 44.907840   \n",
       "2             19.950697              47.185184                 25.815680   \n",
       "3             30.605575              83.481468                 45.525438   \n",
       "4             37.422298             133.925873                 65.101753   \n",
       "5             48.726578             117.688995                 67.819382   \n",
       "6             44.689194             169.703493                 71.407013   \n",
       "7             60.453156              99.377991                 42.638763   \n",
       "8             57.513550             155.627945                 78.256104   \n",
       "9             78.906311             166.755981                 71.277527   \n",
       "\n",
       "   avg_HEAD_landed  avg_opp_HEAD_landed  avg_CTRL_time(seconds)  \\\n",
       "0        15.223542            31.815940              284.080065   \n",
       "1        21.894167            16.263761              491.320261   \n",
       "2         9.788334            16.527523              122.640521   \n",
       "3        15.306670            28.220183               66.124170   \n",
       "4        20.226682            31.880733               57.496679   \n",
       "5        16.881622            23.540924              263.012970   \n",
       "6        18.906727            50.522934               57.986715   \n",
       "7        26.763245            26.081848              116.025940   \n",
       "8        26.253815            50.183472              149.893722   \n",
       "9        33.526489            47.163696              157.051880   \n",
       "\n",
       "   avg_opp_CTRL_time(seconds)  \n",
       "0                  361.640729  \n",
       "1                    9.562915  \n",
       "2                   11.125829  \n",
       "3                   57.006634  \n",
       "4                  170.026536  \n",
       "5                   96.496994  \n",
       "6                  114.106146  \n",
       "7                    9.993988  \n",
       "8                   93.849167  \n",
       "9                   16.987976  "
      ]
     },
     "execution_count": 71,
     "metadata": {},
     "output_type": "execute_result"
    }
   ],
   "source": [
    "file_path = Path('../Machine Learning/fight_id_top39_test.csv')\n",
    "fighter_df = pd.read_csv(file_path)\n",
    "fighter_df = fighter_df.dropna()\n",
    "fighter_df.head(10)"
   ]
  },
  {
   "cell_type": "code",
   "execution_count": 72,
   "metadata": {},
   "outputs": [],
   "source": [
    "# camps_binary_encoded = pd.get_dummies(fighter_df, columns=[\"Country\"])\n",
    "# camps_binary_encoded.head()"
   ]
  },
  {
   "cell_type": "code",
   "execution_count": 73,
   "metadata": {},
   "outputs": [
    {
     "data": {
      "text/html": [
       "<div>\n",
       "<style scoped>\n",
       "    .dataframe tbody tr th:only-of-type {\n",
       "        vertical-align: middle;\n",
       "    }\n",
       "\n",
       "    .dataframe tbody tr th {\n",
       "        vertical-align: top;\n",
       "    }\n",
       "\n",
       "    .dataframe thead th {\n",
       "        text-align: right;\n",
       "    }\n",
       "</style>\n",
       "<table border=\"1\" class=\"dataframe\">\n",
       "  <thead>\n",
       "    <tr style=\"text-align: right;\">\n",
       "      <th></th>\n",
       "      <th>avg_SIG_STR_pct</th>\n",
       "      <th>avg_opp_SIG_STR_pct</th>\n",
       "      <th>avg_SIG_STR_landed</th>\n",
       "      <th>avg_TOTAL_STR_landed</th>\n",
       "      <th>avg_opp_TOTAL_STR_att</th>\n",
       "      <th>avg_opp_TOTAL_STR_landed</th>\n",
       "      <th>avg_HEAD_landed</th>\n",
       "      <th>avg_opp_HEAD_landed</th>\n",
       "      <th>avg_CTRL_time(seconds)</th>\n",
       "      <th>avg_opp_CTRL_time(seconds)</th>\n",
       "    </tr>\n",
       "  </thead>\n",
       "  <tbody>\n",
       "    <tr>\n",
       "      <th>0</th>\n",
       "      <td>0.610465</td>\n",
       "      <td>0.556651</td>\n",
       "      <td>25.203863</td>\n",
       "      <td>39.493837</td>\n",
       "      <td>103.648148</td>\n",
       "      <td>68.976960</td>\n",
       "      <td>15.223542</td>\n",
       "      <td>31.815940</td>\n",
       "      <td>284.080065</td>\n",
       "      <td>361.640729</td>\n",
       "    </tr>\n",
       "    <tr>\n",
       "      <th>1</th>\n",
       "      <td>0.541862</td>\n",
       "      <td>0.476602</td>\n",
       "      <td>30.815453</td>\n",
       "      <td>50.975348</td>\n",
       "      <td>70.592592</td>\n",
       "      <td>44.907840</td>\n",
       "      <td>21.894167</td>\n",
       "      <td>16.263761</td>\n",
       "      <td>491.320261</td>\n",
       "      <td>9.562915</td>\n",
       "    </tr>\n",
       "    <tr>\n",
       "      <th>2</th>\n",
       "      <td>0.493724</td>\n",
       "      <td>0.533204</td>\n",
       "      <td>15.630906</td>\n",
       "      <td>19.950697</td>\n",
       "      <td>47.185184</td>\n",
       "      <td>25.815680</td>\n",
       "      <td>9.788334</td>\n",
       "      <td>16.527523</td>\n",
       "      <td>122.640521</td>\n",
       "      <td>11.125829</td>\n",
       "    </tr>\n",
       "    <tr>\n",
       "      <th>3</th>\n",
       "      <td>0.469789</td>\n",
       "      <td>0.565636</td>\n",
       "      <td>23.047252</td>\n",
       "      <td>30.605575</td>\n",
       "      <td>83.481468</td>\n",
       "      <td>45.525438</td>\n",
       "      <td>15.306670</td>\n",
       "      <td>28.220183</td>\n",
       "      <td>66.124170</td>\n",
       "      <td>57.006634</td>\n",
       "    </tr>\n",
       "    <tr>\n",
       "      <th>4</th>\n",
       "      <td>0.299155</td>\n",
       "      <td>0.462543</td>\n",
       "      <td>32.189006</td>\n",
       "      <td>37.422298</td>\n",
       "      <td>133.925873</td>\n",
       "      <td>65.101753</td>\n",
       "      <td>20.226682</td>\n",
       "      <td>31.880733</td>\n",
       "      <td>57.496679</td>\n",
       "      <td>170.026536</td>\n",
       "    </tr>\n",
       "  </tbody>\n",
       "</table>\n",
       "</div>"
      ],
      "text/plain": [
       "   avg_SIG_STR_pct  avg_opp_SIG_STR_pct  avg_SIG_STR_landed  \\\n",
       "0         0.610465             0.556651           25.203863   \n",
       "1         0.541862             0.476602           30.815453   \n",
       "2         0.493724             0.533204           15.630906   \n",
       "3         0.469789             0.565636           23.047252   \n",
       "4         0.299155             0.462543           32.189006   \n",
       "\n",
       "   avg_TOTAL_STR_landed  avg_opp_TOTAL_STR_att  avg_opp_TOTAL_STR_landed  \\\n",
       "0             39.493837             103.648148                 68.976960   \n",
       "1             50.975348              70.592592                 44.907840   \n",
       "2             19.950697              47.185184                 25.815680   \n",
       "3             30.605575              83.481468                 45.525438   \n",
       "4             37.422298             133.925873                 65.101753   \n",
       "\n",
       "   avg_HEAD_landed  avg_opp_HEAD_landed  avg_CTRL_time(seconds)  \\\n",
       "0        15.223542            31.815940              284.080065   \n",
       "1        21.894167            16.263761              491.320261   \n",
       "2         9.788334            16.527523              122.640521   \n",
       "3        15.306670            28.220183               66.124170   \n",
       "4        20.226682            31.880733               57.496679   \n",
       "\n",
       "   avg_opp_CTRL_time(seconds)  \n",
       "0                  361.640729  \n",
       "1                    9.562915  \n",
       "2                   11.125829  \n",
       "3                   57.006634  \n",
       "4                  170.026536  "
      ]
     },
     "execution_count": 73,
     "metadata": {},
     "output_type": "execute_result"
    }
   ],
   "source": [
    "X = fighter_df.drop(\"Results\", axis=1)\n",
    "X.head()"
   ]
  },
  {
   "cell_type": "code",
   "execution_count": 74,
   "metadata": {},
   "outputs": [
    {
     "data": {
      "text/plain": [
       "array([1, 1, 1, 1, 1], dtype=int64)"
      ]
     },
     "execution_count": 74,
     "metadata": {},
     "output_type": "execute_result"
    }
   ],
   "source": [
    "# Define the target set.\n",
    "y = fighter_df[\"Results\"].ravel()\n",
    "y[:5]"
   ]
  },
  {
   "cell_type": "code",
   "execution_count": 75,
   "metadata": {},
   "outputs": [],
   "source": [
    "X_train, X_test, y_train, y_test = train_test_split(X, y, random_state=2)"
   ]
  },
  {
   "cell_type": "code",
   "execution_count": 76,
   "metadata": {},
   "outputs": [],
   "source": [
    "# Create a random forest classifier.\n",
    "fighter_model = RandomForestClassifier(n_estimators=5000, random_state=2) "
   ]
  },
  {
   "cell_type": "code",
   "execution_count": 77,
   "metadata": {},
   "outputs": [],
   "source": [
    "# Fitting the model\n",
    "fighter_model = fighter_model.fit(X_train, y_train)"
   ]
  },
  {
   "cell_type": "code",
   "execution_count": 78,
   "metadata": {},
   "outputs": [],
   "source": [
    "# Making predictions using the testing data.\n",
    "predictions = fighter_model.predict(X_test)"
   ]
  },
  {
   "cell_type": "code",
   "execution_count": 79,
   "metadata": {},
   "outputs": [
    {
     "data": {
      "text/html": [
       "<div>\n",
       "<style scoped>\n",
       "    .dataframe tbody tr th:only-of-type {\n",
       "        vertical-align: middle;\n",
       "    }\n",
       "\n",
       "    .dataframe tbody tr th {\n",
       "        vertical-align: top;\n",
       "    }\n",
       "\n",
       "    .dataframe thead th {\n",
       "        text-align: right;\n",
       "    }\n",
       "</style>\n",
       "<table border=\"1\" class=\"dataframe\">\n",
       "  <thead>\n",
       "    <tr style=\"text-align: right;\">\n",
       "      <th></th>\n",
       "      <th>Predicted 0</th>\n",
       "      <th>Predicted 1</th>\n",
       "    </tr>\n",
       "  </thead>\n",
       "  <tbody>\n",
       "    <tr>\n",
       "      <th>Actual 0</th>\n",
       "      <td>29</td>\n",
       "      <td>27</td>\n",
       "    </tr>\n",
       "    <tr>\n",
       "      <th>Actual 1</th>\n",
       "      <td>16</td>\n",
       "      <td>37</td>\n",
       "    </tr>\n",
       "  </tbody>\n",
       "</table>\n",
       "</div>"
      ],
      "text/plain": [
       "          Predicted 0  Predicted 1\n",
       "Actual 0           29           27\n",
       "Actual 1           16           37"
      ]
     },
     "execution_count": 79,
     "metadata": {},
     "output_type": "execute_result"
    }
   ],
   "source": [
    "# Calculating the confusion matrix.\n",
    "cm = confusion_matrix(y_test, predictions)\n",
    "\n",
    "# Create a DataFrame from the confusion matrix.\n",
    "cm_df = pd.DataFrame(\n",
    "    cm, index=[\"Actual 0\", \"Actual 1\"], columns=[\"Predicted 0\", \"Predicted 1\"])\n",
    "\n",
    "cm_df"
   ]
  },
  {
   "cell_type": "code",
   "execution_count": 80,
   "metadata": {},
   "outputs": [],
   "source": [
    "# Calculating the accuracy score.\n",
    "acc_score = accuracy_score(y_test, predictions)"
   ]
  },
  {
   "cell_type": "code",
   "execution_count": 81,
   "metadata": {},
   "outputs": [
    {
     "name": "stdout",
     "output_type": "stream",
     "text": [
      "Confusion Matrix\n"
     ]
    },
    {
     "data": {
      "text/html": [
       "<div>\n",
       "<style scoped>\n",
       "    .dataframe tbody tr th:only-of-type {\n",
       "        vertical-align: middle;\n",
       "    }\n",
       "\n",
       "    .dataframe tbody tr th {\n",
       "        vertical-align: top;\n",
       "    }\n",
       "\n",
       "    .dataframe thead th {\n",
       "        text-align: right;\n",
       "    }\n",
       "</style>\n",
       "<table border=\"1\" class=\"dataframe\">\n",
       "  <thead>\n",
       "    <tr style=\"text-align: right;\">\n",
       "      <th></th>\n",
       "      <th>Predicted 0</th>\n",
       "      <th>Predicted 1</th>\n",
       "    </tr>\n",
       "  </thead>\n",
       "  <tbody>\n",
       "    <tr>\n",
       "      <th>Actual 0</th>\n",
       "      <td>29</td>\n",
       "      <td>27</td>\n",
       "    </tr>\n",
       "    <tr>\n",
       "      <th>Actual 1</th>\n",
       "      <td>16</td>\n",
       "      <td>37</td>\n",
       "    </tr>\n",
       "  </tbody>\n",
       "</table>\n",
       "</div>"
      ],
      "text/plain": [
       "          Predicted 0  Predicted 1\n",
       "Actual 0           29           27\n",
       "Actual 1           16           37"
      ]
     },
     "metadata": {},
     "output_type": "display_data"
    },
    {
     "name": "stdout",
     "output_type": "stream",
     "text": [
      "Accuracy Score : 0.6055045871559633\n",
      "Classification Report\n",
      "              precision    recall  f1-score   support\n",
      "\n",
      "           0       0.64      0.52      0.57        56\n",
      "           1       0.58      0.70      0.63        53\n",
      "\n",
      "    accuracy                           0.61       109\n",
      "   macro avg       0.61      0.61      0.60       109\n",
      "weighted avg       0.61      0.61      0.60       109\n",
      "\n"
     ]
    }
   ],
   "source": [
    "# Displaying results\n",
    "print(\"Confusion Matrix\")\n",
    "display(cm_df)\n",
    "print(f\"Accuracy Score : {acc_score}\")\n",
    "print(\"Classification Report\")\n",
    "print(classification_report(y_test, predictions))"
   ]
  },
  {
   "cell_type": "code",
   "execution_count": 82,
   "metadata": {},
   "outputs": [
    {
     "data": {
      "text/plain": [
       "array([0.09185964, 0.11316046, 0.0921764 , 0.08979238, 0.09058709,\n",
       "       0.09529659, 0.09597908, 0.11224485, 0.12294176, 0.09596175])"
      ]
     },
     "execution_count": 82,
     "metadata": {},
     "output_type": "execute_result"
    }
   ],
   "source": [
    "# Calculate feature importance in the Random Forest model.\n",
    "importances = fighter_model.feature_importances_\n",
    "importances"
   ]
  },
  {
   "cell_type": "code",
   "execution_count": 83,
   "metadata": {},
   "outputs": [
    {
     "data": {
      "text/plain": [
       "[(0.12294175750095288, 'avg_CTRL_time(seconds)'),\n",
       " (0.11316045595252379, 'avg_opp_SIG_STR_pct'),\n",
       " (0.1122448518832059, 'avg_opp_HEAD_landed'),\n",
       " (0.09597908255599685, 'avg_HEAD_landed'),\n",
       " (0.0959617516755771, 'avg_opp_CTRL_time(seconds)'),\n",
       " (0.09529658969985869, 'avg_opp_TOTAL_STR_landed'),\n",
       " (0.09217639903658541, 'avg_SIG_STR_landed'),\n",
       " (0.09185963759737505, 'avg_SIG_STR_pct'),\n",
       " (0.09058708945425176, 'avg_opp_TOTAL_STR_att'),\n",
       " (0.08979238464367248, 'avg_TOTAL_STR_landed')]"
      ]
     },
     "execution_count": 83,
     "metadata": {},
     "output_type": "execute_result"
    }
   ],
   "source": [
    "sorted(zip(fighter_model.feature_importances_, X.columns), reverse=True)"
   ]
  }
 ],
 "metadata": {
  "kernelspec": {
   "display_name": "Python 3.10.8 64-bit (microsoft store)",
   "language": "python",
   "name": "python3"
  },
  "language_info": {
   "codemirror_mode": {
    "name": "ipython",
    "version": 3
   },
   "file_extension": ".py",
   "mimetype": "text/x-python",
   "name": "python",
   "nbconvert_exporter": "python",
   "pygments_lexer": "ipython3",
   "version": "3.10.8"
  },
  "orig_nbformat": 4,
  "vscode": {
   "interpreter": {
    "hash": "b47b7a402ee6247eb7f649a01c3cc5cb067c084d2d9829bd69d0f4cb90cacfaf"
   }
  }
 },
 "nbformat": 4,
 "nbformat_minor": 2
}
